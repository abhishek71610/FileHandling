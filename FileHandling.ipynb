{
  "nbformat": 4,
  "nbformat_minor": 0,
  "metadata": {
    "colab": {
      "provenance": []
    },
    "kernelspec": {
      "name": "python3",
      "display_name": "Python 3"
    },
    "language_info": {
      "name": "python"
    }
  },
  "cells": [
    {
      "cell_type": "markdown",
      "source": [
        "4. Write a Python program using multithreading where one thread adds numbers to a list, and another\n",
        "thread removes numbers from the list. Implement a mechanism to avoid race conditions using\n",
        "threading.Lock."
      ],
      "metadata": {
        "id": "4JvBzn40CYKb"
      }
    },
    {
      "cell_type": "code",
      "source": [
        "import threading\n",
        "import queue\n",
        "\n",
        "def add_numbers(queue):\n",
        "    for i in range(10):\n",
        "        queue.put(i)\n",
        "\n",
        "def remove_numbers(queue):\n",
        "    while True:\n",
        "        try:\n",
        "            number = queue.get(timeout=1)\n",
        "            print(\"Removed:\", number)\n",
        "        except queue.Empty:\n",
        "            break\n",
        "\n",
        "if __name__ == \"__main__\":\n",
        "    q = queue.Queue()\n",
        "\n",
        "    thread1 = threading.Thread(target=add_numbers, args=(q,))\n",
        "    thread2 = threading.Thread(target=remove_numbers, args=(q,))\n",
        "\n",
        "    thread1.start()\n",
        "    thread2.start()\n",
        "\n",
        "    thread1.join()\n",
        "    thread2.join()"
      ],
      "metadata": {
        "colab": {
          "base_uri": "https://localhost:8080/"
        },
        "id": "JaKsvDOUCYwS",
        "outputId": "fb9479c9-7da3-4a6d-b2f2-87e6026e9eb3"
      },
      "execution_count": 2,
      "outputs": [
        {
          "output_type": "stream",
          "name": "stdout",
          "text": [
            "Removed: 0\n",
            "Removed: 1\n",
            "Removed: 2\n",
            "Removed: 3\n",
            "Removed: 4\n",
            "Removed: 5\n",
            "Removed: 6\n",
            "Removed: 7\n",
            "Removed: 8\n",
            "Removed: 9\n"
          ]
        },
        {
          "output_type": "stream",
          "name": "stderr",
          "text": [
            "Exception in thread Thread-13 (remove_numbers):\n",
            "Traceback (most recent call last):\n",
            "  File \"<ipython-input-2-bd029e9289fa>\", line 11, in remove_numbers\n",
            "  File \"/usr/lib/python3.10/queue.py\", line 179, in get\n",
            "    raise Empty\n",
            "_queue.Empty\n",
            "\n",
            "During handling of the above exception, another exception occurred:\n",
            "\n",
            "Traceback (most recent call last):\n",
            "  File \"/usr/lib/python3.10/threading.py\", line 1016, in _bootstrap_inner\n",
            "    self.run()\n",
            "  File \"/usr/lib/python3.10/threading.py\", line 953, in run\n",
            "    self._target(*self._args, **self._kwargs)\n",
            "  File \"<ipython-input-2-bd029e9289fa>\", line 13, in remove_numbers\n",
            "AttributeError: 'Queue' object has no attribute 'Empty'. Did you mean: 'empty'?\n"
          ]
        }
      ]
    },
    {
      "cell_type": "markdown",
      "source": [
        "7. Create a program that uses a thread pool to calculate the factorial of numbers from 1 to 10 concurrently.\n",
        "Use concurrent.futures.ThreadPoolExecutor to manage the threads."
      ],
      "metadata": {
        "id": "IFH_knYODV_M"
      }
    },
    {
      "cell_type": "code",
      "source": [
        "import concurrent.futures\n",
        "import time\n",
        "\n",
        "def factorial(n):\n",
        "    result = 1\n",
        "    for i in range(1, n + 1):\n",
        "        result *= i\n",
        "    return result\n",
        "\n",
        "if __name__ == \"__main__\":\n",
        "    start_time = time.time()\n",
        "\n",
        "    with concurrent.futures.ThreadPoolExecutor() as executor:\n",
        "        results = [executor.submit(factorial, num) for num in range(1, 11)]\n",
        "\n",
        "        for future in concurrent.futures.as_completed(results):\n",
        "            result = future.result()\n",
        "            print(f\"Factorial of {result} calculated in {time.time() - start_time:.2f} seconds\")\n",
        "\n",
        "    print(\"All factorials calculated in\", time.time() - start_time, \"seconds\")"
      ],
      "metadata": {
        "colab": {
          "base_uri": "https://localhost:8080/"
        },
        "id": "BjWyj3ACDasT",
        "outputId": "67b84b2d-c141-4654-90e5-b35195b79488"
      },
      "execution_count": 3,
      "outputs": [
        {
          "output_type": "stream",
          "name": "stdout",
          "text": [
            "Factorial of 6 calculated in 0.00 seconds\n",
            "Factorial of 2 calculated in 0.00 seconds\n",
            "Factorial of 3628800 calculated in 0.00 seconds\n",
            "Factorial of 40320 calculated in 0.00 seconds\n",
            "Factorial of 5040 calculated in 0.00 seconds\n",
            "Factorial of 720 calculated in 0.00 seconds\n",
            "Factorial of 120 calculated in 0.00 seconds\n",
            "Factorial of 1 calculated in 0.00 seconds\n",
            "Factorial of 362880 calculated in 0.00 seconds\n",
            "Factorial of 24 calculated in 0.00 seconds\n",
            "All factorials calculated in 0.009344816207885742 seconds\n"
          ]
        }
      ]
    },
    {
      "cell_type": "markdown",
      "source": [
        "8. Create a Python program that uses multiprocessing.Pool to compute the square of numbers from 1 to 10 in\n",
        "parallel. Measure the time taken to perform this computation using a pool of different sizes (e.g., 2, 4, 8\n",
        "processes)\n"
      ],
      "metadata": {
        "id": "uRSEG05jDd3M"
      }
    },
    {
      "cell_type": "code",
      "source": [
        "import multiprocessing\n",
        "import time\n",
        "\n",
        "def square(x):\n",
        "    return x * x\n",
        "\n",
        "def main():\n",
        "    for num_processes in [2, 4, 8]:\n",
        "        pool = multiprocessing.Pool(num_processes)\n",
        "\n",
        "        start_time = time.time()\n",
        "        results = pool.map(square, range(1, 11))\n",
        "        end_time = time.time()\n",
        "\n",
        "        print(f\"With {num_processes} processes, the results are: {results}\")\n",
        "        print(f\"Time taken: {end_time - start_time:.2f} seconds\")\n",
        "\n",
        "        pool.close()\n",
        "        pool.join()\n",
        "\n",
        "if __name__ == \"__main__\":\n",
        "    main()"
      ],
      "metadata": {
        "colab": {
          "base_uri": "https://localhost:8080/"
        },
        "id": "8lCSupLoDel6",
        "outputId": "64b809ea-ba46-429b-ba05-ef7286dcd177"
      },
      "execution_count": 4,
      "outputs": [
        {
          "output_type": "stream",
          "name": "stdout",
          "text": [
            "With 2 processes, the results are: [1, 4, 9, 16, 25, 36, 49, 64, 81, 100]\n",
            "Time taken: 0.00 seconds\n",
            "With 4 processes, the results are: [1, 4, 9, 16, 25, 36, 49, 64, 81, 100]\n",
            "Time taken: 0.00 seconds\n",
            "With 8 processes, the results are: [1, 4, 9, 16, 25, 36, 49, 64, 81, 100]\n",
            "Time taken: 0.00 seconds\n"
          ]
        }
      ]
    }
  ]
}